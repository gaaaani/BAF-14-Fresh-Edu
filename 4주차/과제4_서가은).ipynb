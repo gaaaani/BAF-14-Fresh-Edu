{
 "cells": [
  {
   "cell_type": "code",
   "execution_count": null,
   "metadata": {},
   "outputs": [],
   "source": [
    "import pandas as pd\n",
    "import numpy as np\n",
    "import matplotlib.pyplot as plt\n",
    "import seaborn as sns\n",
    "import missingno as msno ## 결측치 확인\n",
    "from fancyimpute import IterativeImputer ## 다중대체\n",
    "import seaborn.objects as so ## seaborn의 다른 라이브러리\n",
    "import warnings ## warnings message 표시 안함\n",
    "warnings.filterwarnings('ignore')\n",
    "\n",
    "from sklearn.model_selection import train_test_split\n",
    "%config InlineBackend.figure_format = 'retina' ## 선명하게 만들기"
   ]
  },
  {
   "cell_type": "markdown",
   "metadata": {},
   "source": [
    "### SeoulBikeData\n",
    "- Date - 날짜 (년 - 월 - 일)\n",
    "- Rented Bike Count - 대여된 자전거 수 (각 시간대 별)\n",
    "- Hour - 시간\n",
    "- Temperature - 섭씨온도\n",
    "- Humidity(%) - 상대 습도\n",
    "- Wind speed - 초당 미터\n",
    "- Visiblity - 가시성\n",
    "- Dew point temperature - 이슬점 섭씨온도\n",
    "- Solar Radiation - 태양 복사량\n",
    "- Rainfall - 강우량(mm)\n",
    "- Snowfall - 눈(cm)\n",
    "- Seasons - 계절(봄, 여름, 가을, 겨울)\n",
    "- Holiday - 휴일 여부\n",
    "- Functioning Day - 서비스 이용 가능일 의미"
   ]
  },
  {
   "cell_type": "code",
   "execution_count": null,
   "metadata": {},
   "outputs": [],
   "source": [
    "getcwd() #현재 작업 위치 출력"
   ]
  },
  {
   "cell_type": "code",
   "execution_count": 1,
   "metadata": {},
   "outputs": [
    {
     "ename": "SyntaxError",
     "evalue": "(unicode error) 'unicodeescape' codec can't decode bytes in position 2-3: truncated \\UXXXXXXXX escape (4216923558.py, line 2)",
     "output_type": "error",
     "traceback": [
      "\u001b[1;36m  Cell \u001b[1;32mIn[1], line 2\u001b[1;36m\u001b[0m\n\u001b[1;33m    df_test = pd.read_csv(\"C:\\Users\\서가은\\Desktop\\test.csv\")\u001b[0m\n\u001b[1;37m                                                         ^\u001b[0m\n\u001b[1;31mSyntaxError\u001b[0m\u001b[1;31m:\u001b[0m (unicode error) 'unicodeescape' codec can't decode bytes in position 2-3: truncated \\UXXXXXXXX escape\n"
     ]
    }
   ],
   "source": [
    "# read data\n",
    "df_test = pd.read_csv(\"C:\\Users\\서가은\\Desktop\\test.csv\")\n",
    "df_train = pd.read_csv(\"C:\\Users\\서가은\\Downloads\\baf14_ganni\\4주차\\train.csv\")\n",
    "df_test.head()\n",
    "df_train.head()\n",
    "## data는 원본이고, df는 전처리 할 것임 "
   ]
  }
 ],
 "metadata": {
  "kernelspec": {
   "display_name": "Python 3",
   "language": "python",
   "name": "python3"
  },
  "language_info": {
   "codemirror_mode": {
    "name": "ipython",
    "version": 3
   },
   "file_extension": ".py",
   "mimetype": "text/x-python",
   "name": "python",
   "nbconvert_exporter": "python",
   "pygments_lexer": "ipython3",
   "version": "3.10.11"
  }
 },
 "nbformat": 4,
 "nbformat_minor": 2
}
